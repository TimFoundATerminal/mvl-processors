{
 "cells": [
  {
   "cell_type": "markdown",
   "metadata": {},
   "source": [
    "# Gate Analysis"
   ]
  },
  {
   "cell_type": "code",
   "execution_count": 1,
   "metadata": {},
   "outputs": [],
   "source": [
    "import pandas as pd\n",
    "import matplotlib.pyplot as plt\n",
    "import numpy as np\n",
    "import re"
   ]
  },
  {
   "cell_type": "code",
   "execution_count": 2,
   "metadata": {},
   "outputs": [],
   "source": [
    "# File paths\n",
    "binary_file = \"Verilog/binary/programs/program_gate_counts.csv\"\n",
    "ternary_file = \"Verilog/ternary/programs/program_gate_counts.csv\""
   ]
  },
  {
   "cell_type": "code",
   "execution_count": null,
   "metadata": {},
   "outputs": [
    {
     "name": "stdout",
     "output_type": "stream",
     "text": [
      "Binary gate counts: {'NOT': 82, 'AND': 738, 'OR': 224, 'XOR': 738}\n",
      "Ternary gate counts: {'NOT': 479, 'AND': 175, 'OR': 175, 'XOR': 175, 'ANY': 4207, 'CONSENSUS': 2422}\n"
     ]
    },
    {
     "data": {
      "image/png": "[encoded data removed]",
      "text/plain": [
       "<Figure size 1600x600 with 2 Axes>"
      ]
     },
     "metadata": {},
     "output_type": "display_data"
    }
   ],
   "source": [
    "# Function to parse the gate count files\n",
    "def parse_gate_count_file(file_path):\n",
    "    with open(file_path, 'r') as file:\n",
    "        content = file.read()\n",
    "    \n",
    "    # Parse the data using regex\n",
    "    # Looking for patterns like \"NOT,82\", \"AND,738\", etc.\n",
    "    matches = re.findall(r'(\\w+),(\\d+)', content)\n",
    "    \n",
    "    # Convert to dictionary\n",
    "    gate_counts = {gate: int(count) for gate, count in matches}\n",
    "    \n",
    "    return gate_counts\n",
    "\n",
    "# Parse both files\n",
    "try:\n",
    "    binary_counts = parse_gate_count_file(binary_file)\n",
    "    ternary_counts = parse_gate_count_file(ternary_file)\n",
    "    \n",
    "    print(\"Binary gate counts:\", binary_counts)\n",
    "    print(\"Ternary gate counts:\", ternary_counts)\n",
    "    \n",
    "    # Create a DataFrame for easier plotting\n",
    "    all_gates = sorted(set(list(binary_counts.keys()) + list(ternary_counts.keys())))\n",
    "    \n",
    "    data = {\n",
    "        'Gate': all_gates,\n",
    "        'Binary': [binary_counts.get(gate, 0) for gate in all_gates],\n",
    "        'Ternary': [ternary_counts.get(gate, 0) for gate in all_gates]\n",
    "    }\n",
    "    \n",
    "    df = pd.DataFrame(data)\n",
    "\n",
    "    return df\n",
    "    \n",
    "except FileNotFoundError as e:\n",
    "    print(f\"Error: {e}\")\n",
    "    print(\"Please verify that the file paths are correct.\")\n",
    "except Exception as e:\n",
    "    print(f\"An error occurred: {e}\")"
   ]
  },
  {
   "cell_type": "code",
   "execution_count": null,
   "metadata": {},
   "outputs": [],
   "source": [
    "# 1. Bar chart comparison\n",
    "x = np.arange(len(all_gates))\n",
    "width = 0.35\n",
    "\n",
    "ax1.bar(x - width/2, df['Binary'], width, label='Binary')\n",
    "ax1.bar(x + width/2, df['Ternary'], width, label='Ternary')\n",
    "\n",
    "ax1.set_xticks(x)\n",
    "ax1.set_xticklabels(all_gates)\n",
    "ax1.set_ylabel('Count')\n",
    "ax1.set_title('Gate Usage Comparison: Binary vs Ternary')\n",
    "ax1.legend()\n",
    "\n",
    "# Add count labels on top of each bar\n",
    "for i, v in enumerate(df['Binary']):\n",
    "    ax1.text(i - width/2, v + 5, str(v), ha='center')\n",
    "\n",
    "for i, v in enumerate(df['Ternary']):\n",
    "    ax1.text(i + width/2, v + 5, str(v), ha='center')"
   ]
  },
  {
   "cell_type": "code",
   "execution_count": null,
   "metadata": {},
   "outputs": [],
   "source": [
    "# 2. Pie charts\n",
    "binary_total = sum(binary_counts.values())\n",
    "ternary_total = sum(ternary_counts.values())\n",
    "\n",
    "binary_labels = [f\"{gate}\\n({count}, {count/binary_total:.1%})\" for gate, count in binary_counts.items()]\n",
    "ternary_labels = [f\"{gate}\\n({count}, {count/ternary_total:.1%})\" for gate, count in ternary_counts.items()]\n",
    "\n",
    "ax2.pie(binary_counts.values(), labels=binary_labels, autopct='', startangle=90, \n",
    "        wedgeprops={'alpha': 0.6}, radius=1)\n",
    "ax2.pie(ternary_counts.values(), labels=ternary_labels, autopct='', startangle=90, \n",
    "        wedgeprops={'alpha': 0.6}, radius=0.7)\n",
    "\n",
    "centre_circle = plt.Circle((0, 0), 0.4, fc='white')\n",
    "ax2.add_patch(centre_circle)\n",
    "\n",
    "ax2.set_title('Gate Distribution (Outer: Binary, Inner: Ternary)')\n",
    "\n",
    "# Add a title for the whole figure\n",
    "plt.suptitle('Binary vs Ternary Logic: Gate Usage Analysis', fontsize=16)\n",
    "\n",
    "plt.tight_layout()\n",
    "plt.show()"
   ]
  },
  {
   "cell_type": "code",
   "execution_count": null,
   "metadata": {},
   "outputs": [],
   "source": [
    "# 3. Ratio comparison (separate visualization)\n",
    "plt.figure(figsize=(10, 6))\n",
    "\n",
    "ratios = []\n",
    "for gate in all_gates:\n",
    "    binary_val = binary_counts.get(gate, 0)\n",
    "    ternary_val = ternary_counts.get(gate, 0)\n",
    "    \n",
    "    # Avoid division by zero\n",
    "    if binary_val > 0 and ternary_val > 0:\n",
    "        ratio = ternary_val / binary_val\n",
    "        ratios.append((gate, ratio))\n",
    "\n",
    "if ratios:\n",
    "    ratios.sort(key=lambda x: x[1], reverse=True)\n",
    "    gates_with_ratios, ratio_values = zip(*ratios)\n",
    "    \n",
    "    plt.bar(gates_with_ratios, ratio_values, color='purple')\n",
    "    plt.axhline(y=1, color='r', linestyle='-', alpha=0.3)\n",
    "    \n",
    "    plt.title('Ternary/Binary Gate Usage Ratio')\n",
    "    plt.ylabel('Ratio (Ternary ÷ Binary)')\n",
    "    plt.xticks(rotation=45)\n",
    "    \n",
    "    # Add ratio values on top of each bar\n",
    "    for i, v in enumerate(ratio_values):\n",
    "        plt.text(i, v + 0.05, f\"{v:.2f}x\", ha='center')\n",
    "    \n",
    "    plt.tight_layout()\n",
    "    plt.show()"
   ]
  }
 ],
 "metadata": {
  "kernelspec": {
   "display_name": "Python 3",
   "language": "python",
   "name": "python3"
  },
  "language_info": {
   "codemirror_mode": {
    "name": "ipython",
    "version": 3
   },
   "file_extension": ".py",
   "mimetype": "text/x-python",
   "name": "python",
   "nbconvert_exporter": "python",
   "pygments_lexer": "ipython3",
   "version": "3.11.2"
  }
 },
 "nbformat": 4,
 "nbformat_minor": 2
}
